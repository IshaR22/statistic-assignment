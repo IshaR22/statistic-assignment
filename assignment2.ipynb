{
 "cells": [
  {
   "cell_type": "code",
   "execution_count": null,
   "id": "6ef6851a-ba3c-46bd-b6cf-1d566b3e8726",
   "metadata": {},
   "outputs": [],
   "source": [
    "Q1. What are the three measures of central tendency?"
   ]
  },
  {
   "cell_type": "code",
   "execution_count": null,
   "id": "fb81ff12-5e02-48fc-85b8-e81db3529cb3",
   "metadata": {},
   "outputs": [],
   "source": [
    "the 3 measure of central tendency are \n",
    "mean, median, and mode.\n",
    "The mean is calculated by adding up all values in a dataset and dividing by the number of values. It provides\n",
    "the average value and is sensitive to extreme values.\n",
    "\n",
    "The median is the middle value when the data is ordered,and it is not affected by extreme values.\n",
    "\n",
    "The mode is the most frequently occurring value in the dataset.\n"
   ]
  },
  {
   "cell_type": "code",
   "execution_count": null,
   "id": "f8bb1b34-01a7-473c-b5da-a2714e163de2",
   "metadata": {},
   "outputs": [],
   "source": [
    "Q2. What is the difference between the mean, median, and mode? How are they used to measure the\n",
    "central tendency of a dataset?"
   ]
  },
  {
   "cell_type": "code",
   "execution_count": null,
   "id": "e612e188-1b3f-417c-9493-50e2757c3267",
   "metadata": {},
   "outputs": [],
   "source": [
    "The mean is calculated by adding up all values in a dataset and dividing by the number of values. It provides\n",
    "the average value and is sensitive to extreme values.\n",
    "Ex-Suppose the marks of students belonging to class A are {70, 85, 90, 65) . Then the average marks of\n",
    "each class can be given by the mean as 77.5                                                                                          \n",
    "symmetric distributions without outliers.                            \n",
    "                                                           \n",
    "\n",
    "The median is the middle value when the data is ordered,and it is not affected by extreme values.\n",
    "Ex-Suppose the marks of students belonging to class A are {70, 85, 90, 65) . Then the median is  67.5.                                                           \n",
    "skewed distributions or data with outliers.\n",
    "                                                           \n",
    "The mode is the most frequently occurring value in the dataset.\n",
    "for identifying the most common value, especially in categorical data.                                                          "
   ]
  },
  {
   "cell_type": "code",
   "execution_count": null,
   "id": "e8612ba9-c03e-4793-8586-44404d99aadd",
   "metadata": {},
   "outputs": [],
   "source": [
    "Q3. Measure the three measures of central tendency for the given height data:"
   ]
  },
  {
   "cell_type": "code",
   "execution_count": 1,
   "id": "0f2e6cc2-99c1-41d4-a5b5-91aa5cc70099",
   "metadata": {},
   "outputs": [],
   "source": [
    "l=[178,177,176,177,178.2,178,175,179,180,175,178.9,176.2,177,172.5,178,176.5]"
   ]
  },
  {
   "cell_type": "code",
   "execution_count": 2,
   "id": "456c1a39-3188-4330-928e-5b8d6e4fcde9",
   "metadata": {},
   "outputs": [],
   "source": [
    "import numpy as np"
   ]
  },
  {
   "cell_type": "code",
   "execution_count": 3,
   "id": "74bf32ff-69bd-4465-8815-58ee875664e3",
   "metadata": {},
   "outputs": [
    {
     "data": {
      "text/plain": [
       "177.01875"
      ]
     },
     "execution_count": 3,
     "metadata": {},
     "output_type": "execute_result"
    }
   ],
   "source": [
    "np.mean(l)"
   ]
  },
  {
   "cell_type": "code",
   "execution_count": 4,
   "id": "c9a944f3-d541-4f3a-89bb-2d73594defa2",
   "metadata": {},
   "outputs": [
    {
     "data": {
      "text/plain": [
       "177.0"
      ]
     },
     "execution_count": 4,
     "metadata": {},
     "output_type": "execute_result"
    }
   ],
   "source": [
    "np.median(l)"
   ]
  },
  {
   "cell_type": "code",
   "execution_count": 8,
   "id": "a1922350-a8cf-4e53-9a8c-c7cb185aa09d",
   "metadata": {},
   "outputs": [],
   "source": [
    "from scipy import stats"
   ]
  },
  {
   "cell_type": "code",
   "execution_count": 9,
   "id": "01a1328f-a660-4d97-b310-4200c2f05bf9",
   "metadata": {},
   "outputs": [
    {
     "name": "stderr",
     "output_type": "stream",
     "text": [
      "/tmp/ipykernel_95/2919890712.py:1: FutureWarning: Unlike other reduction functions (e.g. `skew`, `kurtosis`), the default behavior of `mode` typically preserves the axis it acts along. In SciPy 1.11.0, this behavior will change: the default value of `keepdims` will become False, the `axis` over which the statistic is taken will be eliminated, and the value None will no longer be accepted. Set `keepdims` to True or False to avoid this warning.\n",
      "  stats.mode(l)\n"
     ]
    },
    {
     "data": {
      "text/plain": [
       "ModeResult(mode=array([177.]), count=array([3]))"
      ]
     },
     "execution_count": 9,
     "metadata": {},
     "output_type": "execute_result"
    }
   ],
   "source": [
    "stats.mode(l)"
   ]
  },
  {
   "cell_type": "code",
   "execution_count": null,
   "id": "950f08ac-8cbf-4ed9-87a7-b581e85e1a41",
   "metadata": {},
   "outputs": [],
   "source": [
    "Q4. Find the standard deviation for the given data:\n",
    "[178,177,176,177,178.2,178,175,179,180,175,178.9,176.2,177,172.5,178,176.5]"
   ]
  },
  {
   "cell_type": "code",
   "execution_count": 10,
   "id": "e558e677-f311-4b2a-95f3-85144aaac38b",
   "metadata": {},
   "outputs": [
    {
     "data": {
      "text/plain": [
       "1.7885814036548633"
      ]
     },
     "execution_count": 10,
     "metadata": {},
     "output_type": "execute_result"
    }
   ],
   "source": [
    "np.std(l)"
   ]
  },
  {
   "cell_type": "code",
   "execution_count": null,
   "id": "7b5a63f3-b067-429b-a8e5-b4191337e492",
   "metadata": {},
   "outputs": [],
   "source": [
    "Q5. How are measures of dispersion such as range, variance, and standard deviation used to describe\n",
    "the spread of a dataset? Provide an example."
   ]
  },
  {
   "cell_type": "code",
   "execution_count": null,
   "id": "56234b42-2a55-486d-9663-cef31b227d91",
   "metadata": {},
   "outputs": [],
   "source": [
    "Range\n",
    "The range is the difference between the maximum and minimum values in a dataset.\n",
    "[2, 4, 6, 8, 10], the range is 10 - 2 = 8.\n",
    "\n",
    "Variance\n",
    "The variance measures the average squared deviation of each data point from the mean.\n",
    " [2, 4, 6, 8, 10], the mean is 6. The squared differences are [(2-6)², (4-6)², (6-6)², (8-6)², (10-6)²] \n",
    "=[16, 4, 0, 4, 16]. The variance is (16 + 4 + 0 + 4 + 16) / 5 = 8.\n",
    "\n",
    "Standard Deviation\n",
    "The standard deviation is the square root of the variance. It measures the average deviation of each data point\n",
    "from the mean.\n",
    " [2, 4, 6, 8, 10], with variance 8, the standard deviation is √8 ≈ 2.83."
   ]
  },
  {
   "cell_type": "code",
   "execution_count": null,
   "id": "46011a78-c88b-4742-9b66-e24d22aaf147",
   "metadata": {},
   "outputs": [],
   "source": [
    "Q6. What is a Venn diagram?"
   ]
  },
  {
   "cell_type": "code",
   "execution_count": null,
   "id": "0fdc8cb0-370b-45eb-af51-9319cd57fe05",
   "metadata": {},
   "outputs": [],
   "source": [
    "A Venn diagram is a visual representation used to illustrate the relationships between different sets.\n",
    "It consists of overlapping circles or other shapes, where each shape represents a set. The areas where the \n",
    "shapes overlap show the common elements shared by the sets, while the areas that do not overlap represent\n",
    "elements unique to each set."
   ]
  },
  {
   "cell_type": "code",
   "execution_count": null,
   "id": "bfd9fbb9-3628-450f-a1ce-0dc98791d834",
   "metadata": {},
   "outputs": [],
   "source": [
    "Q7. For the two given sets A = (2,3,4,5,6,7) & B = (0,2,6,8,10). Find:\n",
    "(i) A B\n",
    "(ii) A ⋃ B"
   ]
  },
  {
   "cell_type": "code",
   "execution_count": 11,
   "id": "8b4415d1-6438-4f37-a61c-c4a2742717da",
   "metadata": {},
   "outputs": [
    {
     "data": {
      "text/plain": [
       "({2, 6}, {0, 2, 3, 4, 5, 6, 7, 8, 10})"
      ]
     },
     "execution_count": 11,
     "metadata": {},
     "output_type": "execute_result"
    }
   ],
   "source": [
    "A = {2,3,4,5,6,7}\n",
    "B={0,2,6,8,10}\n",
    "intersection = A & B\n",
    "union = A | B\n",
    "intersection, union"
   ]
  },
  {
   "cell_type": "code",
   "execution_count": null,
   "id": "0b2064b7-4a8c-4b16-820e-7f6efbb43c3a",
   "metadata": {},
   "outputs": [],
   "source": [
    "Q8. What do you understand about skewness in data?"
   ]
  },
  {
   "cell_type": "code",
   "execution_count": null,
   "id": "9d499ba0-f50f-427b-a74b-98958b42ee7a",
   "metadata": {},
   "outputs": [],
   "source": [
    "Skewness is a measure of the asymmetry of the probability distribution of a real-valued random \n",
    "variable about its mean"
   ]
  },
  {
   "cell_type": "code",
   "execution_count": null,
   "id": "a1c86112-f03d-4ec7-8153-4f2a50fc1e56",
   "metadata": {},
   "outputs": [],
   "source": [
    "Q9. If a data is right skewed then what will be the position of median with respect to mean?"
   ]
  },
  {
   "cell_type": "code",
   "execution_count": null,
   "id": "7f2bd1f8-e3ac-467d-93fe-a1afe1d5f7f5",
   "metadata": {},
   "outputs": [],
   "source": [
    "If a data set is right-skewed (positively skewed), the mean will be greater than the median. \n",
    "Mode<=Median<=Mean"
   ]
  },
  {
   "cell_type": "code",
   "execution_count": null,
   "id": "38b47cb8-91ee-4f7d-a4c8-760bfe4f0c64",
   "metadata": {},
   "outputs": [],
   "source": [
    "Q10. Explain the difference between covariance and correlation. How are these measures used in\n",
    "statistical analysis?"
   ]
  },
  {
   "cell_type": "markdown",
   "id": "41d2ec2f-f94d-4029-8a1b-13a1f961504b",
   "metadata": {},
   "source": [
    "Covariance indicates the direction of the linear relationship between variables.\n",
    "Covariance:\n",
    "Useful for understanding the direction of relationship between variables.\n",
    "Used in portfolio theory and finance to measure the relationship between asset returns.\n",
    "\n",
    "Correlation measures both the strength and direction of the linear relationship between two variables\n",
    "Correlation:\n",
    "Provides a standardized measure of the relationship, allowing comparison across different datasets.\n",
    "Widely used in fields like economics, social sciences, and medicine to analyze the strength and direction of relationships between variables."
   ]
  },
  {
   "cell_type": "code",
   "execution_count": null,
   "id": "dfe84372-a03b-444c-90b0-35150d6b38ca",
   "metadata": {},
   "outputs": [],
   "source": [
    "Q11. What is the formula for calculating the sample mean? Provide an example calculation for a\n",
    "dataset."
   ]
  },
  {
   "cell_type": "code",
   "execution_count": 14,
   "id": "7a5f941a-b892-4013-89c5-7f670e5c5674",
   "metadata": {},
   "outputs": [
    {
     "data": {
      "text/plain": [
       "3.0"
      ]
     },
     "execution_count": 14,
     "metadata": {},
     "output_type": "execute_result"
    }
   ],
   "source": [
    "d=[1,2,3,4,5]\n",
    "n=5\n",
    "#n=total number of elements\n",
    "mean=(1+2+3+4+5)/n\n",
    "np.mean(d)"
   ]
  },
  {
   "cell_type": "code",
   "execution_count": null,
   "id": "461478e0-9e93-4b5b-b710-9837d02adc40",
   "metadata": {},
   "outputs": [],
   "source": [
    "Q12. For a normal distribution data what is the relationship between its measure of central tendency?"
   ]
  },
  {
   "cell_type": "code",
   "execution_count": null,
   "id": "6e57552a-e43e-4b6d-804a-2addb5ceb4e2",
   "metadata": {},
   "outputs": [],
   "source": [
    "The mean of a normal distribution is located at the center of symmetry of the distribution\n",
    "For a normal distribution, the mean is equal to the median and the mode.\n",
    "Mean=Median=Mode=μ"
   ]
  },
  {
   "cell_type": "code",
   "execution_count": 15,
   "id": "f52de1e3-41f1-4fe4-b7e2-02b1745f176e",
   "metadata": {},
   "outputs": [
    {
     "name": "stdout",
     "output_type": "stream",
     "text": [
      "Object `correlation` not found.\n"
     ]
    }
   ],
   "source": [
    "Q13. How is covariance different from correlation?"
   ]
  },
  {
   "cell_type": "code",
   "execution_count": null,
   "id": "5387b8a7-c4e2-45ff-a0c4-6fdbfc1a6ee2",
   "metadata": {},
   "outputs": [],
   "source": [
    "covariance\n",
    "have Unlimited range\n",
    "Not standardized\n",
    "\n",
    "correlation\n",
    "have range of -1 tp 1\n",
    " standardized"
   ]
  },
  {
   "cell_type": "code",
   "execution_count": null,
   "id": "79d7a1f7-4cfb-43b5-9449-06e75105ea90",
   "metadata": {},
   "outputs": [],
   "source": [
    "Q14. How do outliers affect measures of central tendency and dispersion? Provide an example."
   ]
  },
  {
   "cell_type": "code",
   "execution_count": null,
   "id": "5f9eb6b4-a9b1-44aa-a651-e4b31cced726",
   "metadata": {},
   "outputs": [],
   "source": [
    "Outliers can pull the mean in their direction because the mean is sensitive to extreme values.\n",
    "\n",
    "The median is less affected by outliers because it only considers the middle value(s) of the dataset\n",
    "\n",
    "Outliers generally do not affect the mode, as it represents the most frequent value(s) in the dataset.\n",
    "\n",
    "Outliers can significantly increase the range, especially if they are far from the bulk of the data.\n",
    "\n",
    "Outliers can inflate the variance and standard deviation because these measures are influenced by the\n",
    "deviation of each data point from the mean."
   ]
  },
  {
   "cell_type": "code",
   "execution_count": 16,
   "id": "e0c8c17f-2bec-48fb-8646-aad69c4e94cc",
   "metadata": {},
   "outputs": [
    {
     "data": {
      "text/plain": [
       "21.0"
      ]
     },
     "execution_count": 16,
     "metadata": {},
     "output_type": "execute_result"
    }
   ],
   "source": [
    "l=[20,21,22,20,19,21,23,18,20,19,21,22,25,24,22,20,19,21,22]\n",
    "np.mean(l)"
   ]
  },
  {
   "cell_type": "code",
   "execution_count": 17,
   "id": "ab64d421-657f-448f-832e-1a3e5db86f40",
   "metadata": {},
   "outputs": [
    {
     "data": {
      "text/plain": [
       "24.95"
      ]
     },
     "execution_count": 17,
     "metadata": {},
     "output_type": "execute_result"
    }
   ],
   "source": [
    "l1=[20,21,22,20,19,21,23,18,20,19,21,22,25,24,22,20,19,21,22,100]\n",
    "np.mean(l1)"
   ]
  },
  {
   "cell_type": "code",
   "execution_count": 18,
   "id": "f18b4a74-9322-4497-80f1-39aaf267eb86",
   "metadata": {},
   "outputs": [
    {
     "data": {
      "text/plain": [
       "1.7471781760734562"
      ]
     },
     "execution_count": 18,
     "metadata": {},
     "output_type": "execute_result"
    }
   ],
   "source": [
    "np.std(l)"
   ]
  },
  {
   "cell_type": "code",
   "execution_count": null,
   "id": "35dbe302-9eaa-4935-a0b8-b81ad5056f65",
   "metadata": {},
   "outputs": [],
   "source": []
  }
 ],
 "metadata": {
  "kernelspec": {
   "display_name": "Python 3 (ipykernel)",
   "language": "python",
   "name": "python3"
  },
  "language_info": {
   "codemirror_mode": {
    "name": "ipython",
    "version": 3
   },
   "file_extension": ".py",
   "mimetype": "text/x-python",
   "name": "python",
   "nbconvert_exporter": "python",
   "pygments_lexer": "ipython3",
   "version": "3.10.8"
  }
 },
 "nbformat": 4,
 "nbformat_minor": 5
}
